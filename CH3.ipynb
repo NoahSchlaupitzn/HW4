{
 "cells": [
  {
   "cell_type": "code",
   "execution_count": 1,
   "id": "f4118731",
   "metadata": {},
   "outputs": [],
   "source": [
    "# ----- NOTES -----\n",
    "# - pg.85: most common supervised learning tasks are regression and classification\n",
    "# - in this chapter we are using the MNIST dataset, what is this?\n",
    "# - pg.86: what is the typical dictionary structure for sklearn datasets\n",
    "# - pg.86: what does matplotlib's imshow() method do?\n",
    "# - pg.86: what is a feature vector?\n",
    "# - why does some_digit = X[0] not work?\n",
    "# - pg.86: how to turn the label from string to integer and why would we do that\n",
    "# - pg.87: why is shuffling a dataset important\n",
    "# - pg.88: what is a binary classifier?\n",
    "# - pg.88: what is stochastic gradient descent (SGD)?\n",
    "# - pg.88: why is SGD have advantage on large datasets and good for online learning\n",
    "# - why might you need to turn a data set into an array when testing?\n",
    "# - pg.88: why might a classifier be more difficult to measure performance than\n",
    "# a regressor?\n",
    "# - pg.90: why is accuracy not a preferred performance measure of classifiers?\n",
    "# - pg.90: what is a confusion matrix\n",
    "# - pg.90: what is a k-fold"
   ]
  },
  {
   "cell_type": "code",
   "execution_count": 26,
   "id": "7d458b5b",
   "metadata": {},
   "outputs": [],
   "source": [
    "# ----- IMPORTS -----\n",
    "import matplotlib as mpl\n",
    "import matplotlib.pyplot as plt\n",
    "import numpy as np\n",
    "from sklearn.datasets import fetch_openml\n",
    "from sklearn.linear_model import SGDClassifier\n",
    "from sklearn.model_selection import cross_val_score\n",
    "from sklearn.base import BaseEstimator\n",
    "from sklearn.model_selection import cross_val_predict\n",
    "from sklearn.metrics import confusion_matrix"
   ]
  },
  {
   "cell_type": "code",
   "execution_count": 3,
   "id": "d5bb1f0a",
   "metadata": {},
   "outputs": [
    {
     "data": {
      "text/plain": [
       "dict_keys(['data', 'target', 'frame', 'categories', 'feature_names', 'target_names', 'DESCR', 'details', 'url'])"
      ]
     },
     "execution_count": 3,
     "metadata": {},
     "output_type": "execute_result"
    }
   ],
   "source": [
    "# here we are fetching the MNIST dataset\n",
    "# DECSR key - describing the dataset\n",
    "# data key - contains an array with one row per instance and one column per feature\n",
    "# target key - containing an array with labels\n",
    "mnist = fetch_openml('mnist_784', version=1)\n",
    "mnist.keys()"
   ]
  },
  {
   "cell_type": "code",
   "execution_count": 4,
   "id": "4435baf9",
   "metadata": {},
   "outputs": [],
   "source": [
    "# looking at these arrays\n",
    "X, y = mnist[\"data\"], mnist[\"target\"]"
   ]
  },
  {
   "cell_type": "code",
   "execution_count": 5,
   "id": "5dcea454",
   "metadata": {},
   "outputs": [
    {
     "data": {
      "text/plain": [
       "(70000, 784)"
      ]
     },
     "execution_count": 5,
     "metadata": {},
     "output_type": "execute_result"
    }
   ],
   "source": [
    "# this means there are 7,000 images and 784 features\n",
    "# it's 784 because its 28 by 28 pixels, and each feature represents\n",
    "# one pixels intensity\n",
    "X.shape"
   ]
  },
  {
   "cell_type": "code",
   "execution_count": 6,
   "id": "54755e51",
   "metadata": {},
   "outputs": [
    {
     "data": {
      "text/plain": [
       "(70000,)"
      ]
     },
     "execution_count": 6,
     "metadata": {},
     "output_type": "execute_result"
    }
   ],
   "source": [
    "#label\n",
    "y.shape"
   ]
  },
  {
   "cell_type": "code",
   "execution_count": 7,
   "id": "ddb4a413",
   "metadata": {},
   "outputs": [
    {
     "data": {
      "text/plain": [
       "784"
      ]
     },
     "execution_count": 7,
     "metadata": {},
     "output_type": "execute_result"
    }
   ],
   "source": [
    "28 * 28"
   ]
  },
  {
   "cell_type": "code",
   "execution_count": 8,
   "id": "c84d7ecb",
   "metadata": {},
   "outputs": [],
   "source": [
    "# here we are grabbing a feature vector and reshaping into a 28x28 array\n",
    "# we then display it using matplotlib's imshow() function\n",
    "# -----\n",
    "# taking the first instance of mnist['data']\n",
    "# instead of some_digit = X[0] use the below\n",
    "some_digit = X.to_numpy()[0]\n",
    "# reshaping it into an 28x28 array\n",
    "some_digit_image = some_digit.reshape(28, 28)"
   ]
  },
  {
   "cell_type": "code",
   "execution_count": 9,
   "id": "ba585c19",
   "metadata": {},
   "outputs": [
    {
     "data": {
      "image/png": "[encoded data removed]",
      "text/plain": [
       "<Figure size 640x480 with 1 Axes>"
      ]
     },
     "metadata": {},
     "output_type": "display_data"
    }
   ],
   "source": [
    "# --- plotting\n",
    "#  colormap instance or registered colormap name = cmap\n",
    "# X shows the instance, while y shows the value\n",
    "plt.imshow(some_digit_image, cmap='binary')\n",
    "plt.axis('off')\n",
    "plt.show()"
   ]
  },
  {
   "cell_type": "code",
   "execution_count": 10,
   "id": "dac3a9ed",
   "metadata": {},
   "outputs": [
    {
     "data": {
      "text/plain": [
       "'5'"
      ]
     },
     "execution_count": 10,
     "metadata": {},
     "output_type": "execute_result"
    }
   ],
   "source": [
    "y[0]"
   ]
  },
  {
   "cell_type": "code",
   "execution_count": 11,
   "id": "f95fe44e",
   "metadata": {},
   "outputs": [],
   "source": [
    "# note: that the label is a string (y[0]=5) but most algorithms expect numbers\n",
    "# here we are going to cast y as to an integer\n",
    "y = y.astype(np.uint8)"
   ]
  },
  {
   "cell_type": "code",
   "execution_count": 12,
   "id": "2a03abc7",
   "metadata": {},
   "outputs": [],
   "source": [
    "# splitting the dataset for testing and training.\n",
    "# the data is already split into training (first 60,000) and test (last 10,000)\n",
    "# the training set is already shuffled for us\n",
    "X_train, X_test, y_train, y_test = X[:60000], X[60000:], y[:60000], y[60000:]"
   ]
  },
  {
   "cell_type": "code",
   "execution_count": 13,
   "id": "f48c6548",
   "metadata": {},
   "outputs": [],
   "source": [
    "# for now we are only going to try to identify one digit, for example '5'\n",
    "# this '5-detector' will be an example of a binary classifier\n",
    "# this would be capable of distinguishing between just two classes. 5 and not 5\n",
    "y_train_5 = (y_train == 5) # True for all 5's, false for all other digits\n",
    "y_test_5 = (y_test == 5)"
   ]
  },
  {
   "cell_type": "code",
   "execution_count": 14,
   "id": "a6ca1b23",
   "metadata": {},
   "outputs": [
    {
     "data": {
      "text/html": [
       "<style>#sk-container-id-1 {color: black;background-color: white;}#sk-container-id-1 pre{padding: 0;}#sk-container-id-1 div.sk-toggleable {background-color: white;}#sk-container-id-1 label.sk-toggleable__label {cursor: pointer;display: block;width: 100%;margin-bottom: 0;padding: 0.3em;box-sizing: border-box;text-align: center;}#sk-container-id-1 label.sk-toggleable__label-arrow:before {content: \"▸\";float: left;margin-right: 0.25em;color: #696969;}#sk-container-id-1 label.sk-toggleable__label-arrow:hover:before {color: black;}#sk-container-id-1 div.sk-estimator:hover label.sk-toggleable__label-arrow:before {color: black;}#sk-container-id-1 div.sk-toggleable__content {max-height: 0;max-width: 0;overflow: hidden;text-align: left;background-color: #f0f8ff;}#sk-container-id-1 div.sk-toggleable__content pre {margin: 0.2em;color: black;border-radius: 0.25em;background-color: #f0f8ff;}#sk-container-id-1 input.sk-toggleable__control:checked~div.sk-toggleable__content {max-height: 200px;max-width: 100%;overflow: auto;}#sk-container-id-1 input.sk-toggleable__control:checked~label.sk-toggleable__label-arrow:before {content: \"▾\";}#sk-container-id-1 div.sk-estimator input.sk-toggleable__control:checked~label.sk-toggleable__label {background-color: #d4ebff;}#sk-container-id-1 div.sk-label input.sk-toggleable__control:checked~label.sk-toggleable__label {background-color: #d4ebff;}#sk-container-id-1 input.sk-hidden--visually {border: 0;clip: rect(1px 1px 1px 1px);clip: rect(1px, 1px, 1px, 1px);height: 1px;margin: -1px;overflow: hidden;padding: 0;position: absolute;width: 1px;}#sk-container-id-1 div.sk-estimator {font-family: monospace;background-color: #f0f8ff;border: 1px dotted black;border-radius: 0.25em;box-sizing: border-box;margin-bottom: 0.5em;}#sk-container-id-1 div.sk-estimator:hover {background-color: #d4ebff;}#sk-container-id-1 div.sk-parallel-item::after {content: \"\";width: 100%;border-bottom: 1px solid gray;flex-grow: 1;}#sk-container-id-1 div.sk-label:hover label.sk-toggleable__label {background-color: #d4ebff;}#sk-container-id-1 div.sk-serial::before {content: \"\";position: absolute;border-left: 1px solid gray;box-sizing: border-box;top: 0;bottom: 0;left: 50%;z-index: 0;}#sk-container-id-1 div.sk-serial {display: flex;flex-direction: column;align-items: center;background-color: white;padding-right: 0.2em;padding-left: 0.2em;position: relative;}#sk-container-id-1 div.sk-item {position: relative;z-index: 1;}#sk-container-id-1 div.sk-parallel {display: flex;align-items: stretch;justify-content: center;background-color: white;position: relative;}#sk-container-id-1 div.sk-item::before, #sk-container-id-1 div.sk-parallel-item::before {content: \"\";position: absolute;border-left: 1px solid gray;box-sizing: border-box;top: 0;bottom: 0;left: 50%;z-index: -1;}#sk-container-id-1 div.sk-parallel-item {display: flex;flex-direction: column;z-index: 1;position: relative;background-color: white;}#sk-container-id-1 div.sk-parallel-item:first-child::after {align-self: flex-end;width: 50%;}#sk-container-id-1 div.sk-parallel-item:last-child::after {align-self: flex-start;width: 50%;}#sk-container-id-1 div.sk-parallel-item:only-child::after {width: 0;}#sk-container-id-1 div.sk-dashed-wrapped {border: 1px dashed gray;margin: 0 0.4em 0.5em 0.4em;box-sizing: border-box;padding-bottom: 0.4em;background-color: white;}#sk-container-id-1 div.sk-label label {font-family: monospace;font-weight: bold;display: inline-block;line-height: 1.2em;}#sk-container-id-1 div.sk-label-container {text-align: center;}#sk-container-id-1 div.sk-container {/* jupyter's `normalize.less` sets `[hidden] { display: none; }` but bootstrap.min.css set `[hidden] { display: none !important; }` so we also need the `!important` here to be able to override the default hidden behavior on the sphinx rendered scikit-learn.org. See: https://github.com/scikit-learn/scikit-learn/issues/21755 */display: inline-block !important;position: relative;}#sk-container-id-1 div.sk-text-repr-fallback {display: none;}</style><div id=\"sk-container-id-1\" class=\"sk-top-container\"><div class=\"sk-text-repr-fallback\"><pre>SGDClassifier(random_state=42)</pre><b>In a Jupyter environment, please rerun this cell to show the HTML representation or trust the notebook. <br />On GitHub, the HTML representation is unable to render, please try loading this page with nbviewer.org.</b></div><div class=\"sk-container\" hidden><div class=\"sk-item\"><div class=\"sk-estimator sk-toggleable\"><input class=\"sk-toggleable__control sk-hidden--visually\" id=\"sk-estimator-id-1\" type=\"checkbox\" checked><label for=\"sk-estimator-id-1\" class=\"sk-toggleable__label sk-toggleable__label-arrow\">SGDClassifier</label><div class=\"sk-toggleable__content\"><pre>SGDClassifier(random_state=42)</pre></div></div></div></div></div>"
      ],
      "text/plain": [
       "SGDClassifier(random_state=42)"
      ]
     },
     "execution_count": 14,
     "metadata": {},
     "output_type": "execute_result"
    }
   ],
   "source": [
    "# a good classifier to begin with is SGD classifier\n",
    "# this classifier has the advantage of being capable of handling very large\n",
    "# datasets efficiently.\n",
    "#---\n",
    "# SGDClassifier relies on randomness (hence stochastic)\n",
    "sgd_clf = SGDClassifier(random_state=42)\n",
    "X_train = X_train.values # conversion of X_train into an array\n",
    "# above ^ is done to turn it into an array because you get a warning.\n",
    "# this is because X_train is fitted as a model but tested as an array.\n",
    "# to solve the warning I turn it into an array\n",
    "sgd_clf.fit(X_train, y_train_5) # using X_train dataset to train if it's 5 or not"
   ]
  },
  {
   "cell_type": "code",
   "execution_count": 15,
   "id": "959b2908",
   "metadata": {},
   "outputs": [
    {
     "data": {
      "text/plain": [
       "array([ True])"
      ]
     },
     "execution_count": 15,
     "metadata": {},
     "output_type": "execute_result"
    }
   ],
   "source": [
    "sgd_clf.predict([some_digit]) # if we remember from earlier, some_digit is the\n",
    "                              # number [0] and it equals 5\n",
    "# the model guessed correctly, now to determine its performance"
   ]
  },
  {
   "cell_type": "code",
   "execution_count": 18,
   "id": "3466329a",
   "metadata": {
    "scrolled": true
   },
   "outputs": [
    {
     "data": {
      "text/plain": [
       "array([0.95035, 0.96035, 0.9604 ])"
      ]
     },
     "execution_count": 18,
     "metadata": {},
     "output_type": "execute_result"
    }
   ],
   "source": [
    "# a good way to evaluate a model is using cross-validation\n",
    "# below we can see the accuracy across all three folds,they are all above 95%\n",
    "cross_val_score(sgd_clf, X_train, y_train_5, cv=3, scoring='accuracy')"
   ]
  },
  {
   "cell_type": "code",
   "execution_count": 21,
   "id": "60d2a9a8",
   "metadata": {},
   "outputs": [],
   "source": [
    "# here we are going to look at a classifier that only looks at the not 5's\n",
    "class Never5Classifier(BaseEstimator):\n",
    "    def fit(self, X, y=None):\n",
    "        return self\n",
    "    def predict(self, X):\n",
    "        return np.zeros((len(X), 1), dtype=bool)"
   ]
  },
  {
   "cell_type": "code",
   "execution_count": 22,
   "id": "d039040b",
   "metadata": {},
   "outputs": [
    {
     "data": {
      "text/plain": [
       "array([0.91125, 0.90855, 0.90915])"
      ]
     },
     "execution_count": 22,
     "metadata": {},
     "output_type": "execute_result"
    }
   ],
   "source": [
    "# determining the accuracy of the above class\n",
    "# all are above 90%, only about 10% of number are 5's\n",
    "# this is why accuracy is not a good performance measure for classifiers\n",
    "never_5_clf = Never5Classifier()\n",
    "cross_val_score(never_5_clf, X_train, y_train_5, cv=3, scoring='accuracy')"
   ]
  },
  {
   "cell_type": "code",
   "execution_count": 25,
   "id": "5eb93d06",
   "metadata": {},
   "outputs": [],
   "source": [
    "# a better performance measure for classifiers is the confusion matrix\n",
    "# an example how this works: it counts the number of times the classifier\n",
    "# confused images of 5's with 3's.\n",
    "# -----\n",
    "# to compute the confusion matrix we first need to have a set of predictions on the test set\n",
    "# -----\n",
    "# to begin we can start with cross_val_predict\n",
    "# --- explain what's happening this this code:\n",
    "# performs a k-fold\n",
    "# uses the SGDClassifier\n",
    "# X_train data set with with the test to equal True if it's 5\n",
    "y_train_pred = cross_val_predict(sgd_clf, X_train, y_train_5, cv=3)"
   ]
  },
  {
   "cell_type": "code",
   "execution_count": 27,
   "id": "214e8101",
   "metadata": {},
   "outputs": [
    {
     "data": {
      "text/plain": [
       "array([[53892,   687],\n",
       "       [ 1891,  3530]], dtype=int64)"
      ]
     },
     "execution_count": 27,
     "metadata": {},
     "output_type": "execute_result"
    }
   ],
   "source": [
    "# now to use the confusion matrix\n",
    "# each row in the confusion matrix represents an actual class\n",
    "# each column represents the predicted class\n",
    "# ---\n",
    "# (negative class)\n",
    "# the first row (53892) were correctly classified as non-5s (called True negatives)\n",
    "# the second (687) are wrongly classified (called false positive)\n",
    "# (positive class)\n",
    "# (1891) was wrongly classified as non-5's (false negatives)\n",
    "# (3530) were correcly classified (True positive)\n",
    "confusion_matrix(y_train_5, y_train_pred)"
   ]
  },
  {
   "cell_type": "code",
   "execution_count": null,
   "id": "4403ed47",
   "metadata": {},
   "outputs": [],
   "source": []
  }
 ],
 "metadata": {
  "kernelspec": {
   "display_name": "Python 3 (ipykernel)",
   "language": "python",
   "name": "python3"
  },
  "language_info": {
   "codemirror_mode": {
    "name": "ipython",
    "version": 3
   },
   "file_extension": ".py",
   "mimetype": "text/x-python",
   "name": "python",
   "nbconvert_exporter": "python",
   "pygments_lexer": "ipython3",
   "version": "3.9.7"
  }
 },
 "nbformat": 4,
 "nbformat_minor": 5
}
