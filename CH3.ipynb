{
 "cells": [
  {
   "cell_type": "code",
   "execution_count": null,
   "id": "35aebe3c",
   "metadata": {},
   "outputs": [],
   "source": [
    "# ----- NOTES -----\n",
    "# - pg.85: most common supervised learning tasks are regression and classification\n",
    "# - in this chapter we are using the MNIST dataset, what is this?\n",
    "# "
   ]
  },
  {
   "cell_type": "code",
   "execution_count": null,
   "id": "40eb8099",
   "metadata": {},
   "outputs": [],
   "source": [
    "# ----- IMPORTS -----"
   ]
  },
  {
   "cell_type": "code",
   "execution_count": null,
   "id": "7893e9aa",
   "metadata": {},
   "outputs": [],
   "source": [
    "# here we are fetching "
   ]
  }
 ],
 "metadata": {
  "kernelspec": {
   "display_name": "Python 3 (ipykernel)",
   "language": "python",
   "name": "python3"
  },
  "language_info": {
   "codemirror_mode": {
    "name": "ipython",
    "version": 3
   },
   "file_extension": ".py",
   "mimetype": "text/x-python",
   "name": "python",
   "nbconvert_exporter": "python",
   "pygments_lexer": "ipython3",
   "version": "3.9.7"
  }
 },
 "nbformat": 4,
 "nbformat_minor": 5
}
