{
 "cells": [
  {
   "cell_type": "code",
   "execution_count": null,
   "id": "b9e24089",
   "metadata": {},
   "outputs": [],
   "source": [
    "# ----- NOTES -----\n",
    "# - pg.85: most common supervised learning tasks are regression and classification\n",
    "# - in this chapter we are using the MNIST dataset, what is this?\n",
    "# - pg.86: what is the typical dictionary structure for sklearn datasets\n",
    "# - pg.86: what does matplotlib's imshow() method do?\n",
    "# - pg.86: what is a feature vector?"
   ]
  },
  {
   "cell_type": "code",
   "execution_count": 1,
   "id": "bf14dbb7",
   "metadata": {},
   "outputs": [],
   "source": [
    "# ----- IMPORTS -----\n",
    "import matplotlib as mpl\n",
    "import matplotlib.pyplot as plt\n",
    "from sklearn.datasets import fetch_openml"
   ]
  },
  {
   "cell_type": "code",
   "execution_count": 2,
   "id": "969dcce3",
   "metadata": {},
   "outputs": [
    {
     "data": {
      "text/plain": [
       "dict_keys(['data', 'target', 'frame', 'categories', 'feature_names', 'target_names', 'DESCR', 'details', 'url'])"
      ]
     },
     "execution_count": 2,
     "metadata": {},
     "output_type": "execute_result"
    }
   ],
   "source": [
    "# here we are fetching the MNIST dataset\n",
    "# DECSR key - describing the dataset\n",
    "# data key - contains an array with one row per instance and one column per feature\n",
    "# target key - containing an array with labels\n",
    "mnist = fetch_openml('mnist_784', version=1)\n",
    "mnist.keys()"
   ]
  },
  {
   "cell_type": "code",
   "execution_count": 3,
   "id": "0d0ed4ed",
   "metadata": {},
   "outputs": [],
   "source": [
    "# looking at these arrays\n",
    "X, y = mnist['data'], mnist['target']"
   ]
  },
  {
   "cell_type": "code",
   "execution_count": 4,
   "id": "fb0c89da",
   "metadata": {},
   "outputs": [
    {
     "data": {
      "text/plain": [
       "(70000, 784)"
      ]
     },
     "execution_count": 4,
     "metadata": {},
     "output_type": "execute_result"
    }
   ],
   "source": [
    "# this means there are 7,000 images and 784 features\n",
    "# it's 784 because its 28 by 28 pixels, and each feature represents\n",
    "# one pixels intensity\n",
    "X.shape"
   ]
  },
  {
   "cell_type": "code",
   "execution_count": 5,
   "id": "278ccbe1",
   "metadata": {},
   "outputs": [
    {
     "data": {
      "text/plain": [
       "(70000,)"
      ]
     },
     "execution_count": 5,
     "metadata": {},
     "output_type": "execute_result"
    }
   ],
   "source": [
    "#label\n",
    "y.shape"
   ]
  },
  {
   "cell_type": "code",
   "execution_count": 6,
   "id": "24b2a9b8",
   "metadata": {},
   "outputs": [
    {
     "data": {
      "text/plain": [
       "784"
      ]
     },
     "execution_count": 6,
     "metadata": {},
     "output_type": "execute_result"
    }
   ],
   "source": [
    "28 * 28"
   ]
  },
  {
   "cell_type": "code",
   "execution_count": null,
   "id": "90623bf5",
   "metadata": {},
   "outputs": [],
   "source": [
    "# here we are grabbing a feature vector and reshaping into a 28x28 array\n",
    "# we then display it using matplotlib's imshow() function\n"
   ]
  }
 ],
 "metadata": {
  "kernelspec": {
   "display_name": "Python 3 (ipykernel)",
   "language": "python",
   "name": "python3"
  },
  "language_info": {
   "codemirror_mode": {
    "name": "ipython",
    "version": 3
   },
   "file_extension": ".py",
   "mimetype": "text/x-python",
   "name": "python",
   "nbconvert_exporter": "python",
   "pygments_lexer": "ipython3",
   "version": "3.9.7"
  }
 },
 "nbformat": 4,
 "nbformat_minor": 5
}
