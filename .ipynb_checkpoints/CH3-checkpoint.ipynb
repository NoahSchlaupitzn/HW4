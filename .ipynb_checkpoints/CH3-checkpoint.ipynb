{
 "cells": [
  {
   "cell_type": "code",
   "execution_count": 1,
   "id": "f4118731",
   "metadata": {},
   "outputs": [],
   "source": [
    "# ----- NOTES -----\n",
    "# - pg.85: most common supervised learning tasks are regression and classification\n",
    "# - in this chapter we are using the MNIST dataset, what is this?\n",
    "# - pg.86: what is the typical dictionary structure for sklearn datasets\n",
    "# - pg.86: what does matplotlib's imshow() method do?\n",
    "# - pg.86: what is a feature vector?\n",
    "# - why does some_digit = X[0] not work?\n",
    "# - pg.86: how to turn the label from string to integer and why would we do that\n",
    "# - pg.87: why is shuffling a dataset important\n",
    "# - pg.88: what is a binary classifier?\n",
    "# - pg.88: what is stochastic gradient descent (SGD)?\n",
    "# - pg.88: why is SGD have advantage on large datasets and good for online learning\n",
    "# - why might you need to turn a data set into an array when testing?\n",
    "# - pg.88: why might a classifier be more difficult to measure performance than\n",
    "# a regressor?\n",
    "# - pg.90: why is accuracy not a preferred performance measure of classifiers?\n",
    "# - pg.90: what is a confusion matrix\n",
    "# - pg.90: what is a k-fold\n",
    "# - pg.91: note the precision equation and what it's used for and how.\n",
    "# - pg.91: why is 'recall' used with 'precision'\n",
    "# - pg.91: what is the recall equation and what are its other names?\n",
    "# - pg.92: confusion matrix explained\n",
    "# - pg.92: what is called when you combined recall and precision\n",
    "# - pg.93: why might you want to use a recall or precision over another?\n",
    "# - pg.93: what trade-offs does precision and recall have?\n",
    "# - pg.94: understand the graph.\n",
    "# - pg.94: how do you decide which threshold to use?\n",
    "# - pg.94: what does 'precision_recall_curve()' function compute\n",
    "# - pg.95: what does [:-1] mean\n",
    "# - pg.95: understand the graph on this page fig 3-4"
   ]
  },
  {
   "cell_type": "code",
   "execution_count": 39,
   "id": "7d458b5b",
   "metadata": {},
   "outputs": [],
   "source": [
    "# ----- IMPORTS -----\n",
    "import matplotlib as mpl\n",
    "import matplotlib.pyplot as plt\n",
    "import numpy as np\n",
    "from sklearn.datasets import fetch_openml\n",
    "from sklearn.linear_model import SGDClassifier\n",
    "from sklearn.model_selection import cross_val_score\n",
    "from sklearn.base import BaseEstimator\n",
    "from sklearn.model_selection import cross_val_predict\n",
    "from sklearn.metrics import confusion_matrix\n",
    "from sklearn.metrics import precision_score, recall_score\n",
    "from sklearn.metrics import f1_score\n",
    "from sklearn.metrics import precision_recall_curve"
   ]
  },
  {
   "cell_type": "code",
   "execution_count": 3,
   "id": "d5bb1f0a",
   "metadata": {},
   "outputs": [
    {
     "data": {
      "text/plain": [
       "dict_keys(['data', 'target', 'frame', 'categories', 'feature_names', 'target_names', 'DESCR', 'details', 'url'])"
      ]
     },
     "execution_count": 3,
     "metadata": {},
     "output_type": "execute_result"
    }
   ],
   "source": [
    "# here we are fetching the MNIST dataset\n",
    "# DECSR key - describing the dataset\n",
    "# data key - contains an array with one row per instance and one column per feature\n",
    "# target key - containing an array with labels\n",
    "mnist = fetch_openml('mnist_784', version=1)\n",
    "mnist.keys()"
   ]
  },
  {
   "cell_type": "code",
   "execution_count": 4,
   "id": "4435baf9",
   "metadata": {},
   "outputs": [],
   "source": [
    "# looking at these arrays\n",
    "X, y = mnist[\"data\"], mnist[\"target\"]"
   ]
  },
  {
   "cell_type": "code",
   "execution_count": 5,
   "id": "5dcea454",
   "metadata": {},
   "outputs": [
    {
     "data": {
      "text/plain": [
       "(70000, 784)"
      ]
     },
     "execution_count": 5,
     "metadata": {},
     "output_type": "execute_result"
    }
   ],
   "source": [
    "# this means there are 7,000 images and 784 features\n",
    "# it's 784 because its 28 by 28 pixels, and each feature represents\n",
    "# one pixels intensity\n",
    "X.shape"
   ]
  },
  {
   "cell_type": "code",
   "execution_count": 6,
   "id": "54755e51",
   "metadata": {},
   "outputs": [
    {
     "data": {
      "text/plain": [
       "(70000,)"
      ]
     },
     "execution_count": 6,
     "metadata": {},
     "output_type": "execute_result"
    }
   ],
   "source": [
    "#label\n",
    "y.shape"
   ]
  },
  {
   "cell_type": "code",
   "execution_count": 7,
   "id": "ddb4a413",
   "metadata": {},
   "outputs": [
    {
     "data": {
      "text/plain": [
       "784"
      ]
     },
     "execution_count": 7,
     "metadata": {},
     "output_type": "execute_result"
    }
   ],
   "source": [
    "28 * 28"
   ]
  },
  {
   "cell_type": "code",
   "execution_count": 8,
   "id": "c84d7ecb",
   "metadata": {},
   "outputs": [],
   "source": [
    "# here we are grabbing a feature vector and reshaping into a 28x28 array\n",
    "# we then display it using matplotlib's imshow() function\n",
    "# -----\n",
    "# taking the first instance of mnist['data']\n",
    "# instead of some_digit = X[0] use the below\n",
    "some_digit = X.to_numpy()[0]\n",
    "# reshaping it into an 28x28 array\n",
    "some_digit_image = some_digit.reshape(28, 28)"
   ]
  },
  {
   "cell_type": "code",
   "execution_count": 9,
   "id": "ba585c19",
   "metadata": {},
   "outputs": [
    {
     "data": {
      "image/png": "[encoded data removed]",
      "text/plain": [
       "<Figure size 640x480 with 1 Axes>"
      ]
     },
     "metadata": {},
     "output_type": "display_data"
    }
   ],
   "source": [
    "# --- plotting\n",
    "#  colormap instance or registered colormap name = cmap\n",
    "# X shows the instance, while y shows the value\n",
    "plt.imshow(some_digit_image, cmap='binary')\n",
    "plt.axis('off')\n",
    "plt.show()"
   ]
  },
  {
   "cell_type": "code",
   "execution_count": 10,
   "id": "dac3a9ed",
   "metadata": {},
   "outputs": [
    {
     "data": {
      "text/plain": [
       "'5'"
      ]
     },
     "execution_count": 10,
     "metadata": {},
     "output_type": "execute_result"
    }
   ],
   "source": [
    "y[0]"
   ]
  },
  {
   "cell_type": "code",
   "execution_count": 11,
   "id": "f95fe44e",
   "metadata": {},
   "outputs": [],
   "source": [
    "# note: that the label is a string (y[0]=5) but most algorithms expect numbers\n",
    "# here we are going to cast y as to an integer\n",
    "y = y.astype(np.uint8)"
   ]
  },
  {
   "cell_type": "code",
   "execution_count": 12,
   "id": "2a03abc7",
   "metadata": {},
   "outputs": [],
   "source": [
    "# splitting the dataset for testing and training.\n",
    "# the data is already split into training (first 60,000) and test (last 10,000)\n",
    "# the training set is already shuffled for us\n",
    "X_train, X_test, y_train, y_test = X[:60000], X[60000:], y[:60000], y[60000:]"
   ]
  },
  {
   "cell_type": "code",
   "execution_count": 13,
   "id": "f48c6548",
   "metadata": {},
   "outputs": [],
   "source": [
    "# for now we are only going to try to identify one digit, for example '5'\n",
    "# this '5-detector' will be an example of a binary classifier\n",
    "# this would be capable of distinguishing between just two classes. 5 and not 5\n",
    "y_train_5 = (y_train == 5) # True for all 5's, false for all other digits\n",
    "y_test_5 = (y_test == 5)"
   ]
  },
  {
   "cell_type": "code",
   "execution_count": 14,
   "id": "a6ca1b23",
   "metadata": {},
   "outputs": [
    {
     "data": {
      "text/html": [
       "<style>#sk-container-id-1 {color: black;background-color: white;}#sk-container-id-1 pre{padding: 0;}#sk-container-id-1 div.sk-toggleable {background-color: white;}#sk-container-id-1 label.sk-toggleable__label {cursor: pointer;display: block;width: 100%;margin-bottom: 0;padding: 0.3em;box-sizing: border-box;text-align: center;}#sk-container-id-1 label.sk-toggleable__label-arrow:before {content: \"▸\";float: left;margin-right: 0.25em;color: #696969;}#sk-container-id-1 label.sk-toggleable__label-arrow:hover:before {color: black;}#sk-container-id-1 div.sk-estimator:hover label.sk-toggleable__label-arrow:before {color: black;}#sk-container-id-1 div.sk-toggleable__content {max-height: 0;max-width: 0;overflow: hidden;text-align: left;background-color: #f0f8ff;}#sk-container-id-1 div.sk-toggleable__content pre {margin: 0.2em;color: black;border-radius: 0.25em;background-color: #f0f8ff;}#sk-container-id-1 input.sk-toggleable__control:checked~div.sk-toggleable__content {max-height: 200px;max-width: 100%;overflow: auto;}#sk-container-id-1 input.sk-toggleable__control:checked~label.sk-toggleable__label-arrow:before {content: \"▾\";}#sk-container-id-1 div.sk-estimator input.sk-toggleable__control:checked~label.sk-toggleable__label {background-color: #d4ebff;}#sk-container-id-1 div.sk-label input.sk-toggleable__control:checked~label.sk-toggleable__label {background-color: #d4ebff;}#sk-container-id-1 input.sk-hidden--visually {border: 0;clip: rect(1px 1px 1px 1px);clip: rect(1px, 1px, 1px, 1px);height: 1px;margin: -1px;overflow: hidden;padding: 0;position: absolute;width: 1px;}#sk-container-id-1 div.sk-estimator {font-family: monospace;background-color: #f0f8ff;border: 1px dotted black;border-radius: 0.25em;box-sizing: border-box;margin-bottom: 0.5em;}#sk-container-id-1 div.sk-estimator:hover {background-color: #d4ebff;}#sk-container-id-1 div.sk-parallel-item::after {content: \"\";width: 100%;border-bottom: 1px solid gray;flex-grow: 1;}#sk-container-id-1 div.sk-label:hover label.sk-toggleable__label {background-color: #d4ebff;}#sk-container-id-1 div.sk-serial::before {content: \"\";position: absolute;border-left: 1px solid gray;box-sizing: border-box;top: 0;bottom: 0;left: 50%;z-index: 0;}#sk-container-id-1 div.sk-serial {display: flex;flex-direction: column;align-items: center;background-color: white;padding-right: 0.2em;padding-left: 0.2em;position: relative;}#sk-container-id-1 div.sk-item {position: relative;z-index: 1;}#sk-container-id-1 div.sk-parallel {display: flex;align-items: stretch;justify-content: center;background-color: white;position: relative;}#sk-container-id-1 div.sk-item::before, #sk-container-id-1 div.sk-parallel-item::before {content: \"\";position: absolute;border-left: 1px solid gray;box-sizing: border-box;top: 0;bottom: 0;left: 50%;z-index: -1;}#sk-container-id-1 div.sk-parallel-item {display: flex;flex-direction: column;z-index: 1;position: relative;background-color: white;}#sk-container-id-1 div.sk-parallel-item:first-child::after {align-self: flex-end;width: 50%;}#sk-container-id-1 div.sk-parallel-item:last-child::after {align-self: flex-start;width: 50%;}#sk-container-id-1 div.sk-parallel-item:only-child::after {width: 0;}#sk-container-id-1 div.sk-dashed-wrapped {border: 1px dashed gray;margin: 0 0.4em 0.5em 0.4em;box-sizing: border-box;padding-bottom: 0.4em;background-color: white;}#sk-container-id-1 div.sk-label label {font-family: monospace;font-weight: bold;display: inline-block;line-height: 1.2em;}#sk-container-id-1 div.sk-label-container {text-align: center;}#sk-container-id-1 div.sk-container {/* jupyter's `normalize.less` sets `[hidden] { display: none; }` but bootstrap.min.css set `[hidden] { display: none !important; }` so we also need the `!important` here to be able to override the default hidden behavior on the sphinx rendered scikit-learn.org. See: https://github.com/scikit-learn/scikit-learn/issues/21755 */display: inline-block !important;position: relative;}#sk-container-id-1 div.sk-text-repr-fallback {display: none;}</style><div id=\"sk-container-id-1\" class=\"sk-top-container\"><div class=\"sk-text-repr-fallback\"><pre>SGDClassifier(random_state=42)</pre><b>In a Jupyter environment, please rerun this cell to show the HTML representation or trust the notebook. <br />On GitHub, the HTML representation is unable to render, please try loading this page with nbviewer.org.</b></div><div class=\"sk-container\" hidden><div class=\"sk-item\"><div class=\"sk-estimator sk-toggleable\"><input class=\"sk-toggleable__control sk-hidden--visually\" id=\"sk-estimator-id-1\" type=\"checkbox\" checked><label for=\"sk-estimator-id-1\" class=\"sk-toggleable__label sk-toggleable__label-arrow\">SGDClassifier</label><div class=\"sk-toggleable__content\"><pre>SGDClassifier(random_state=42)</pre></div></div></div></div></div>"
      ],
      "text/plain": [
       "SGDClassifier(random_state=42)"
      ]
     },
     "execution_count": 14,
     "metadata": {},
     "output_type": "execute_result"
    }
   ],
   "source": [
    "# a good classifier to begin with is SGD classifier\n",
    "# this classifier has the advantage of being capable of handling very large\n",
    "# datasets efficiently.\n",
    "#---\n",
    "# SGDClassifier relies on randomness (hence stochastic)\n",
    "sgd_clf = SGDClassifier(random_state=42)\n",
    "X_train = X_train.values # conversion of X_train into an array\n",
    "# above ^ is done to turn it into an array because you get a warning.\n",
    "# this is because X_train is fitted as a model but tested as an array.\n",
    "# to solve the warning I turn it into an array\n",
    "sgd_clf.fit(X_train, y_train_5) # using X_train dataset to train if it's 5 or not"
   ]
  },
  {
   "cell_type": "code",
   "execution_count": 15,
   "id": "959b2908",
   "metadata": {},
   "outputs": [
    {
     "data": {
      "text/plain": [
       "array([ True])"
      ]
     },
     "execution_count": 15,
     "metadata": {},
     "output_type": "execute_result"
    }
   ],
   "source": [
    "sgd_clf.predict([some_digit]) # if we remember from earlier, some_digit is the\n",
    "                              # number [0] and it equals 5\n",
    "# the model guessed correctly, now to determine its performance"
   ]
  },
  {
   "cell_type": "code",
   "execution_count": 18,
   "id": "3466329a",
   "metadata": {
    "scrolled": true
   },
   "outputs": [
    {
     "data": {
      "text/plain": [
       "array([0.95035, 0.96035, 0.9604 ])"
      ]
     },
     "execution_count": 18,
     "metadata": {},
     "output_type": "execute_result"
    }
   ],
   "source": [
    "# a good way to evaluate a model is using cross-validation\n",
    "# below we can see the accuracy across all three folds,they are all above 95%\n",
    "cross_val_score(sgd_clf, X_train, y_train_5, cv=3, scoring='accuracy')"
   ]
  },
  {
   "cell_type": "code",
   "execution_count": 21,
   "id": "2ae15aa8",
   "metadata": {},
   "outputs": [],
   "source": [
    "# here we are going to look at a classifier that only looks at the not 5's\n",
    "class Never5Classifier(BaseEstimator):\n",
    "    def fit(self, X, y=None):\n",
    "        return self\n",
    "    def predict(self, X):\n",
    "        return np.zeros((len(X), 1), dtype=bool)"
   ]
  },
  {
   "cell_type": "code",
   "execution_count": 22,
   "id": "1127048d",
   "metadata": {},
   "outputs": [
    {
     "data": {
      "text/plain": [
       "array([0.91125, 0.90855, 0.90915])"
      ]
     },
     "execution_count": 22,
     "metadata": {},
     "output_type": "execute_result"
    }
   ],
   "source": [
    "# determining the accuracy of the above class\n",
    "# all are above 90%, only about 10% of number are 5's\n",
    "# this is why accuracy is not a good performance measure for classifiers\n",
    "never_5_clf = Never5Classifier()\n",
    "cross_val_score(never_5_clf, X_train, y_train_5, cv=3, scoring='accuracy')"
   ]
  },
  {
   "cell_type": "code",
   "execution_count": 25,
   "id": "626913a7",
   "metadata": {},
   "outputs": [],
   "source": [
    "# a better performance measure for classifiers is the confusion matrix\n",
    "# an example how this works: it counts the number of times the classifier\n",
    "# confused images of 5's with 3's.\n",
    "# -----\n",
    "# to compute the confusion matrix we first need to have a set of predictions on the test set\n",
    "# -----\n",
    "# to begin we can start with cross_val_predict\n",
    "# --- explain what's happening this this code:\n",
    "# performs a k-fold\n",
    "# uses the SGDClassifier\n",
    "# X_train data set with with the test to equal True if it's 5\n",
    "y_train_pred = cross_val_predict(sgd_clf, X_train, y_train_5, cv=3)"
   ]
  },
  {
   "cell_type": "code",
   "execution_count": 27,
   "id": "85286048",
   "metadata": {},
   "outputs": [
    {
     "data": {
      "text/plain": [
       "array([[53892,   687],\n",
       "       [ 1891,  3530]], dtype=int64)"
      ]
     },
     "execution_count": 27,
     "metadata": {},
     "output_type": "execute_result"
    }
   ],
   "source": [
    "# now to use the confusion matrix\n",
    "# each row in the confusion matrix represents an actual class\n",
    "# each column represents the predicted class\n",
    "# ---\n",
    "# (negative class)\n",
    "# the first row (53892) were correctly classified as non-5s (called True negatives)\n",
    "# the second (687) are wrongly classified (called false positive)\n",
    "# (positive class)\n",
    "# (1891) was wrongly classified as non-5's (false negatives)\n",
    "# (3530) were correcly classified (True positive)\n",
    "# ---\n",
    "# the first column is testing negatives and the second column is testing positives\n",
    "# the first row is testing not 5s and second row is testing for 5s\n",
    "# this mean top left is a True negative because it correctly predicted non 5s\n",
    "# top right incorrectly predicted non 5s\n",
    "# ---\n",
    "# positive (second column) = seen as 5's\n",
    "# negative (first column) = seen as non's\n",
    "# first row = results for testing non 5s\n",
    "# second row = results for testing 5s\n",
    "confusion_matrix(y_train_5, y_train_pred)"
   ]
  },
  {
   "cell_type": "code",
   "execution_count": 28,
   "id": "ce414c4f",
   "metadata": {},
   "outputs": [
    {
     "data": {
      "text/plain": [
       "array([[54579,     0],\n",
       "       [    0,  5421]], dtype=int64)"
      ]
     },
     "execution_count": 28,
     "metadata": {},
     "output_type": "execute_result"
    }
   ],
   "source": [
    "# a perfect matrix would only have true positive and true negatives\n",
    "# on the confusion matrix would have non-zero values only on its main diagonal\n",
    "#---\n",
    "# this is example it being tested against it's own training set\n",
    "y_train_perfect_predictions = y_train_5\n",
    "confusion_matrix(y_train_5, y_train_perfect_predictions)"
   ]
  },
  {
   "cell_type": "code",
   "execution_count": null,
   "id": "078abda6",
   "metadata": {},
   "outputs": [],
   "source": [
    "# UNDERSTANDING THE CONFUSION MATRIX\n",
    "# seek pg.92"
   ]
  },
  {
   "cell_type": "code",
   "execution_count": 30,
   "id": "31841ce8",
   "metadata": {},
   "outputs": [
    {
     "data": {
      "text/plain": [
       "0.8370879772350012"
      ]
     },
     "execution_count": 30,
     "metadata": {},
     "output_type": "execute_result"
    }
   ],
   "source": [
    "# sklearn provides functions for precision and recall\n",
    "# this creates a precision score of this classifier\n",
    "# it's 83.7% accurate, it's get this by dividing it's actual positives\n",
    "# by it's total positive\n",
    "precision_score(y_train_5, y_train_pred) # 3530/(3530 + 687)"
   ]
  },
  {
   "cell_type": "code",
   "execution_count": 31,
   "id": "a326ad9e",
   "metadata": {},
   "outputs": [
    {
     "data": {
      "text/plain": [
       "0.6511713705958311"
      ]
     },
     "execution_count": 31,
     "metadata": {},
     "output_type": "execute_result"
    }
   ],
   "source": [
    "# 65.1% accurate, dividing a true positives by false negative + true positive\n",
    "recall_score(y_train_5, y_train_pred) # 3530/(3530 + 1891)"
   ]
  },
  {
   "cell_type": "code",
   "execution_count": 33,
   "id": "5bc49ebc",
   "metadata": {},
   "outputs": [
    {
     "data": {
      "text/plain": [
       "0.7325171197343846"
      ]
     },
     "execution_count": 33,
     "metadata": {},
     "output_type": "execute_result"
    }
   ],
   "source": [
    "# computing the f1 score\n",
    "# f1 favors similar precision and recall, however this is always what you want\n",
    "# this is exlpained on pg.93\n",
    "f1_score(y_train_5, y_train_pred)"
   ]
  },
  {
   "cell_type": "code",
   "execution_count": 34,
   "id": "a88e72b1",
   "metadata": {},
   "outputs": [
    {
     "data": {
      "text/plain": [
       "array([2164.22030239])"
      ]
     },
     "execution_count": 34,
     "metadata": {},
     "output_type": "execute_result"
    }
   ],
   "source": [
    "# to understand the trade-off we can look at the SGDClassifier and \n",
    "# how it makes classification decisions\n",
    "# -----\n",
    "# Sklearn doesn't give you access to set the threshold directly, but it does\n",
    "# give decision scores which is used to make predictions.\n",
    "# instead of calling the predict() method you can call decision_function()\n",
    "# this method returns the score for each instance, then using any threshold you\n",
    "# want to make predictions based on those scores.\n",
    "y_scores = sgd_clf.decision_function([some_digit])\n",
    "y_scores"
   ]
  },
  {
   "cell_type": "code",
   "execution_count": 36,
   "id": "aecc8591",
   "metadata": {},
   "outputs": [
    {
     "data": {
      "text/plain": [
       "array([ True])"
      ]
     },
     "execution_count": 36,
     "metadata": {},
     "output_type": "execute_result"
    }
   ],
   "source": [
    "# we can change the threshold which can decrease/increase recall\n",
    "threshold = 0\n",
    "y_some_digit_pred = (y_scores > threshold)\n",
    "y_some_digit_pred"
   ]
  },
  {
   "cell_type": "code",
   "execution_count": 37,
   "id": "9336277b",
   "metadata": {},
   "outputs": [
    {
     "data": {
      "text/plain": [
       "array([False])"
      ]
     },
     "execution_count": 37,
     "metadata": {},
     "output_type": "execute_result"
    }
   ],
   "source": [
    "threshold = 3000\n",
    "y_some_digit_pred = (y_scores > threshold)\n",
    "y_some_digit_pred"
   ]
  },
  {
   "cell_type": "code",
   "execution_count": 38,
   "id": "f75e285c",
   "metadata": {},
   "outputs": [],
   "source": [
    "# deciding which threshold to use\n",
    "y_score = cross_val_predict(sgd_clf, X_train, y_train_5, cv=3,\n",
    "                           method='decision_function')"
   ]
  },
  {
   "cell_type": "code",
   "execution_count": 55,
   "id": "ebd7a149",
   "metadata": {},
   "outputs": [],
   "source": [
    "# using precision_recall_curve() to precision and recall for possible threholds\n",
    "# finding the threshold where 5 is True out of the y train set\n",
    "precisions, recalls, thresholds = precision_recall_curve(y_train_5, y_score)\n",
    "\n",
    "# using matplotlib to plot precision and recall as functions\n",
    "def plot_precision_recall_vs_threshold(precisions, recalls, thresholds):\n",
    "    plt.plot(thresholds, precisions[:-1], 'b--', label='Precision', linewidth=3)\n",
    "    plt.plot(thresholds, recalls[:-1], 'g-', label='Recall', linewidth=3)\n",
    "    plt.xlabel('threshold', fontsize=16)\n",
    "    plt.legend(loc='upper left', fontsize=16)\n",
    "    plt.ylim([0, 1])\n",
    "    # [...] highlight the threshold and add the legend, axis label, and grid"
   ]
  },
  {
   "cell_type": "code",
   "execution_count": 56,
   "id": "5d81e489",
   "metadata": {},
   "outputs": [
    {
     "data": {
      "image/png": "[encoded data removed]",
      "text/plain": [
       "<Figure size 1200x400 with 1 Axes>"
      ]
     },
     "metadata": {},
     "output_type": "display_data"
    }
   ],
   "source": [
    "plt.figure(figsize=(12,4))\n",
    "plot_precision_recall_vs_threshold(precisions, recalls, thresholds)\n",
    "plt.xlim([-70000, 70000])\n",
    "plt.show()\n",
    "\"\"\"\n",
    "The reason why the precision curve is bumpier is because the precision\n",
    "may go down when you raise the threshold. though in general it goes up.\n",
    "An other example would be figure 3-3, if you increased the threshold you would\n",
    "see precision to go from 4/5(80%) to 3/4(75%), on the other hand recall can \n",
    "only decrease.\n",
    "\"\"\""
   ]
  },
  {
   "cell_type": "code",
   "execution_count": null,
   "id": "d63aba61",
   "metadata": {},
   "outputs": [],
   "source": []
  }
 ],
 "metadata": {
  "kernelspec": {
   "display_name": "Python 3 (ipykernel)",
   "language": "python",
   "name": "python3"
  },
  "language_info": {
   "codemirror_mode": {
    "name": "ipython",
    "version": 3
   },
   "file_extension": ".py",
   "mimetype": "text/x-python",
   "name": "python",
   "nbconvert_exporter": "python",
   "pygments_lexer": "ipython3",
   "version": "3.9.7"
  }
 },
 "nbformat": 4,
 "nbformat_minor": 5
}
